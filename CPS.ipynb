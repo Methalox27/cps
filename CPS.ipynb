{
  "nbformat": 4,
  "nbformat_minor": 0,
  "metadata": {
    "colab": {
      "provenance": []
    },
    "kernelspec": {
      "name": "python3",
      "display_name": "Python 3"
    },
    "language_info": {
      "name": "python"
    }
  },
  "cells": [
    {
      "cell_type": "markdown",
      "source": [
        "# Straight line fit\n"
      ],
      "metadata": {
        "id": "oF_y_INQTWm_"
      }
    },
    {
      "cell_type": "code",
      "source": [
        "import numpy as np\n",
        "from scipy.optimize import curve_fit\n",
        "import matplotlib.pyplot as plt\n",
        "# Define the linear function y = a + bx\n",
        "def linear_function(x, a, b):\n",
        "  return (a + b * x)\n",
        "# Example data\n",
        "x = np.array([1, 2, 3, 4, 5,6])\n",
        "y = np.array([6,4,3,5,4,2])\n",
        "# Perform curve fitting\n",
        "Params, covariance = curve_fit(linear_function, x, y)\n",
        "a_fit, b_fit = Params\n",
        "# Print fitted parameters\n",
        "print(\"Fitted a value:\", a_fit)\n",
        "print(\"Fitted b value:\", b_fit)\n",
        "y=5.8-(4*0.514)\n",
        "print(y)\n"
      ],
      "metadata": {
        "colab": {
          "base_uri": "https://localhost:8080/"
        },
        "id": "VJRZBhs_TUjf",
        "outputId": "56d6348d-3f7b-4b00-ae52-44b375cd25cb"
      },
      "execution_count": 9,
      "outputs": [
        {
          "output_type": "stream",
          "name": "stdout",
          "text": [
            "Fitted a value: 5.800000022848447\n",
            "Fitted b value: -0.514285720813842\n",
            "3.7439999999999998\n"
          ]
        }
      ]
    },
    {
      "cell_type": "markdown",
      "source": [
        "# Quadratic Fit\n"
      ],
      "metadata": {
        "id": "WULFRSxCTnHb"
      }
    },
    {
      "cell_type": "code",
      "source": [
        "import numpy as np\n",
        "from scipy.optimize import curve_fit\n",
        "import matplotlib.pyplot as plt\n",
        "# Define the parabola function\n",
        "def parabola(x, a, b, c):\n",
        "  return (a + (b * x) +(c * x**2))\n",
        "# Example data\n",
        "x_data = np.array([20,40,60,80,100,120])\n",
        "y_data = np.array([5.5,9.1,14.9,22.8,33.3,46.0])\n",
        "# Fit the data to the parabola function\n",
        "Params, covariance = curve_fit(parabola, x_data, y_data)\n",
        "# Extract the fitted parameters\n",
        "a_fit, b_fit, c_fit = Params\n",
        "# Generate fitted y values\n",
        "y_fit = parabola(x_data, a_fit, b_fit, c_fit)\n",
        "# Print fitted parameters\n",
        "print(\"Fitted a value:\", a_fit)\n",
        "print(\"Fitted b value:\", b_fit)\n",
        "print(\"Fitted c value:\", c_fit)\n",
        "y=4.35+(0.0024*110)+( 0.0029*110**2)\n",
        "print(y)\n"
      ],
      "metadata": {
        "colab": {
          "base_uri": "https://localhost:8080/"
        },
        "id": "BKf3v5iJTqP9",
        "outputId": "f24e205b-fe53-4c2d-85c3-d713a24de737"
      },
      "execution_count": 10,
      "outputs": [
        {
          "output_type": "stream",
          "name": "stdout",
          "text": [
            "Fitted a value: 4.3499999999925905\n",
            "Fitted b value: 0.0024107142858954544\n",
            "Fitted c value: 0.002870535714284639\n",
            "39.70399999999999\n"
          ]
        }
      ]
    },
    {
      "cell_type": "markdown",
      "source": [
        "# Rank Correlation\n"
      ],
      "metadata": {
        "id": "_7AqZzULTtFi"
      }
    },
    {
      "cell_type": "code",
      "source": [
        "import numpy as np\n",
        "from scipy.stats import spearmanr\n",
        "X = np.array([1,6,5,10,3,2,4,9,7,8])\n",
        "Y = np.array([6,4,9,8,1,2,3,10,5,7])\n",
        "Correlation, p_value = spearmanr(X,Y)\n",
        "print(\"Spearmans Rank Correlation:\", Correlation)"
      ],
      "metadata": {
        "colab": {
          "base_uri": "https://localhost:8080/"
        },
        "id": "pd-kt3XqTum3",
        "outputId": "b2c814a6-a2a4-4cee-86f4-a2ea5c407f00"
      },
      "execution_count": 11,
      "outputs": [
        {
          "output_type": "stream",
          "name": "stdout",
          "text": [
            "Spearmans Rank Correlation: 0.6363636363636362\n"
          ]
        }
      ]
    },
    {
      "cell_type": "markdown",
      "source": [
        "# Correlation"
      ],
      "metadata": {
        "id": "0N5PhZfkTwW1"
      }
    },
    {
      "cell_type": "code",
      "source": [
        "import numpy as np\n",
        "x = np.array([78,89,97,69,59,79,68,57])\n",
        "y= np.array([125,137,156,112,107,138,123,108])\n",
        "Correlation_matrix = np.corrcoef(x, y)\n",
        "pearson_correlation = Correlation_matrix[0, 1]\n",
        "print(\"Pearson’s Correlation coefficient:\", pearson_correlation)"
      ],
      "metadata": {
        "colab": {
          "base_uri": "https://localhost:8080/"
        },
        "id": "tClOvAtBTxRx",
        "outputId": "9c819ead-a6d2-45db-baa8-6f58ccff37a4"
      },
      "execution_count": 12,
      "outputs": [
        {
          "output_type": "stream",
          "name": "stdout",
          "text": [
            "Pearson’s Correlation coefficient: 0.9487862679426302\n"
          ]
        }
      ]
    },
    {
      "cell_type": "markdown",
      "source": [
        "# Poisson's distribution"
      ],
      "metadata": {
        "id": "goeTKWe_Tyr9"
      }
    },
    {
      "cell_type": "code",
      "source": [
        "import numpy as np\n",
        "from scipy.stats import poisson\n",
        "lambda_parameter= 0.012\n",
        "# no error\n",
        "x=0\n",
        "p1 = poisson.pmf(x, lambda_parameter)\n",
        "print(\"Probability of no error during a micro second:%0.4f \" %p1)\n",
        "# one error\n",
        "x1=1\n",
        "p2 = poisson.pmf(x1, lambda_parameter)\n",
        "print(\"Probability of one error during a micro second:%0.4f \" %p2)\n",
        "# atleast one error\n",
        "x2=0\n",
        "p3 = 1 - poisson.pmf(x2, lambda_parameter)\n",
        "print(\"Probability of atleast one error during a micro second:%0.4f \" %p3)\n",
        "# two erros\n",
        "x3=2\n",
        "p4 = poisson.pmf(x3, lambda_parameter)\n",
        "print(\"Probability of two error during a micro second:%0.4f \" %p4)\n",
        "# atmost two errors\n",
        "x7= 2\n",
        "p8= poisson.cdf(x7, lambda_parameter)\n",
        "print(\"Probability of atmost two error during a micro second:%0.4f \" %p8)\n",
        "# more than 4 errors\n",
        "x5=4\n",
        "p6 = 1-poisson.cdf(x5, lambda_parameter)\n",
        "print(\"Probability of more than 4 error during a micro second:%0.4f \" %p6)"
      ],
      "metadata": {
        "colab": {
          "base_uri": "https://localhost:8080/"
        },
        "id": "il7mUBB0Tz1H",
        "outputId": "a06d4051-792e-4c76-c306-f8126b05da0f"
      },
      "execution_count": 13,
      "outputs": [
        {
          "output_type": "stream",
          "name": "stdout",
          "text": [
            "Probability of no error during a micro second:0.9881 \n",
            "Probability of one error during a micro second:0.0119 \n",
            "Probability of atleast one error during a micro second:0.0119 \n",
            "Probability of two error during a micro second:0.0001 \n",
            "Probability of atmost two error during a micro second:1.0000 \n",
            "Probability of more than 4 error during a micro second:0.0000 \n"
          ]
        }
      ]
    },
    {
      "cell_type": "markdown",
      "source": [
        "# Normal distribution\n"
      ],
      "metadata": {
        "id": "bpQzW_shT1wY"
      }
    },
    {
      "cell_type": "code",
      "source": [
        "import numpy as np\n",
        "from scipy.stats import norm\n",
        "mu = 2040\n",
        "sigma = 60\n",
        "# Calculate the cumulative distribution function (CDF) at a specific value\n",
        "# Value for which you want to calculate the probability\n",
        "np1= norm.cdf(1950, loc=mu, scale=sigma) #prob of x less than 1950\n",
        "print(\" Prob of x less than 1950 = %0.4f\" %np1)\n",
        "np2= norm.cdf(2150, loc=mu, scale=sigma)\n",
        "print(\" Prob of x more than 2150 = %0.4f\" %(1-np2)) #prob of x more than 2150\n",
        "print(\"**********************************************\")\n",
        "p1= norm.cdf(1920, loc=mu, scale=sigma)\n",
        "p2= norm.cdf(2160, loc=mu, scale=sigma)\n",
        "print(\"Prob of x between 1900 and 2100 =%0.4f\" %(p2-p1)) #prob of x between 1920 and 2160"
      ],
      "metadata": {
        "colab": {
          "base_uri": "https://localhost:8080/"
        },
        "id": "dfQyyj6TT21S",
        "outputId": "babafbf5-9494-42fd-82af-22e8466ee417"
      },
      "execution_count": 14,
      "outputs": [
        {
          "output_type": "stream",
          "name": "stdout",
          "text": [
            " Prob of x less than 1950 = 0.0668\n",
            " Prob of x more than 2150 = 0.0334\n",
            "**********************************************\n",
            "Prob of x between 1900 and 2100 =0.9545\n"
          ]
        }
      ]
    }
  ]
}